{
  "nbformat": 4,
  "nbformat_minor": 0,
  "metadata": {
    "environment": {
      "name": "tf-gpu.1-15.m56",
      "type": "gcloud",
      "uri": "gcr.io/deeplearning-platform-release/tf-gpu.1-15:m56"
    },
    "kernelspec": {
      "display_name": "Python 3",
      "language": "python",
      "name": "python3"
    },
    "language_info": {
      "codemirror_mode": {
        "name": "ipython",
        "version": 3
      },
      "file_extension": ".py",
      "mimetype": "text/x-python",
      "name": "python",
      "nbconvert_exporter": "python",
      "pygments_lexer": "ipython3",
      "version": "3.9.0"
    },
    "colab": {
      "name": "Practice_material_2.ipynb",
      "provenance": [],
      "collapsed_sections": [],
      "toc_visible": true
    }
  },
  "cells": [
    {
      "cell_type": "markdown",
      "metadata": {
        "id": "qtil_RnkQBv2"
      },
      "source": [
        "# Download dataset form  this website\n",
        "\n",
        "## https://www.kaggle.com/faressayah/stanford-open-policing-project?select=police_project.csv"
      ]
    },
    {
      "cell_type": "markdown",
      "metadata": {
        "id": "BQxMUX5cQBv-"
      },
      "source": [
        "## Description::"
      ]
    },
    {
      "cell_type": "markdown",
      "metadata": {
        "id": "MVRoYkW9QBv-"
      },
      "source": [
        "On a typical day in the United States, police officers make more than 50,000 traffic stops. Our team is gathering, analyzing, and releasing records from millions of traffic stops by law enforcement agencies across the country. Our goal is to help researchers, journalists, and policymakers investigate and improve interactions between police and the public.\n"
      ]
    },
    {
      "cell_type": "markdown",
      "metadata": {
        "id": "eIISD-cbQBv_"
      },
      "source": [
        "## Importing libraries::"
      ]
    },
    {
      "cell_type": "code",
      "metadata": {
        "id": "NOSW4qCPQBv_"
      },
      "source": [
        "import pandas as pd\n",
        "import numpy as np"
      ],
      "execution_count": 1,
      "outputs": []
    },
    {
      "cell_type": "markdown",
      "metadata": {
        "id": "6ioxC2-DQBwA"
      },
      "source": [
        "# Use Pandas' read_csv function  open it as a DataFrame"
      ]
    },
    {
      "cell_type": "code",
      "metadata": {
        "colab": {
          "base_uri": "https://localhost:8080/"
        },
        "id": "UbOqCEyjQBwA",
        "outputId": "7b27588f-3be8-4bb3-9f5e-0f1d5e6b45cc"
      },
      "source": [
        "df = pd.read_csv(\"police_project.csv\")\n",
        "\n",
        "# exploring\n",
        "# df.columns\n",
        "# df.describe()"
      ],
      "execution_count": 152,
      "outputs": [
        {
          "output_type": "execute_result",
          "data": {
            "text/plain": [
              "RangeIndex(start=0, stop=91741, step=1)"
            ]
          },
          "metadata": {
            "tags": []
          },
          "execution_count": 152
        }
      ]
    },
    {
      "cell_type": "markdown",
      "metadata": {
        "id": "l7-xTHViQBwA"
      },
      "source": [
        "# What does each row represent?\n",
        "\n",
        "#### hint::\n",
        "head : Return the first n rows. (By default return first 5 rows.)"
      ]
    },
    {
      "cell_type": "code",
      "metadata": {
        "colab": {
          "base_uri": "https://localhost:8080/"
        },
        "id": "bWXRRRakQBwB",
        "outputId": "4685176c-33e8-4c1e-9f27-f2f745177f03"
      },
      "source": [
        "df.head()\r\n",
        "\r\n",
        "\r\n"
      ],
      "execution_count": 42,
      "outputs": [
        {
          "output_type": "execute_result",
          "data": {
            "text/plain": [
              "0.9651627952605705"
            ]
          },
          "metadata": {
            "tags": []
          },
          "execution_count": 42
        }
      ]
    },
    {
      "cell_type": "markdown",
      "metadata": {
        "id": "PSIgYKItQBwB"
      },
      "source": [
        "# How to get the basic statistics of all the columns?"
      ]
    },
    {
      "cell_type": "code",
      "metadata": {
        "colab": {
          "base_uri": "https://localhost:8080/",
          "height": 297
        },
        "id": "abTIQn43QBwB",
        "outputId": "35e076b5-18ec-4eab-a774-bbfcf41fa137"
      },
      "source": [
        "df.describe()"
      ],
      "execution_count": 43,
      "outputs": [
        {
          "output_type": "execute_result",
          "data": {
            "text/html": [
              "<div>\n",
              "<style scoped>\n",
              "    .dataframe tbody tr th:only-of-type {\n",
              "        vertical-align: middle;\n",
              "    }\n",
              "\n",
              "    .dataframe tbody tr th {\n",
              "        vertical-align: top;\n",
              "    }\n",
              "\n",
              "    .dataframe thead th {\n",
              "        text-align: right;\n",
              "    }\n",
              "</style>\n",
              "<table border=\"1\" class=\"dataframe\">\n",
              "  <thead>\n",
              "    <tr style=\"text-align: right;\">\n",
              "      <th></th>\n",
              "      <th>county_name</th>\n",
              "      <th>driver_age_raw</th>\n",
              "      <th>driver_age</th>\n",
              "    </tr>\n",
              "  </thead>\n",
              "  <tbody>\n",
              "    <tr>\n",
              "      <th>count</th>\n",
              "      <td>0.0</td>\n",
              "      <td>86414.000000</td>\n",
              "      <td>86120.000000</td>\n",
              "    </tr>\n",
              "    <tr>\n",
              "      <th>mean</th>\n",
              "      <td>NaN</td>\n",
              "      <td>1970.491228</td>\n",
              "      <td>34.011333</td>\n",
              "    </tr>\n",
              "    <tr>\n",
              "      <th>std</th>\n",
              "      <td>NaN</td>\n",
              "      <td>110.914909</td>\n",
              "      <td>12.738564</td>\n",
              "    </tr>\n",
              "    <tr>\n",
              "      <th>min</th>\n",
              "      <td>NaN</td>\n",
              "      <td>0.000000</td>\n",
              "      <td>15.000000</td>\n",
              "    </tr>\n",
              "    <tr>\n",
              "      <th>25%</th>\n",
              "      <td>NaN</td>\n",
              "      <td>1967.000000</td>\n",
              "      <td>23.000000</td>\n",
              "    </tr>\n",
              "    <tr>\n",
              "      <th>50%</th>\n",
              "      <td>NaN</td>\n",
              "      <td>1980.000000</td>\n",
              "      <td>31.000000</td>\n",
              "    </tr>\n",
              "    <tr>\n",
              "      <th>75%</th>\n",
              "      <td>NaN</td>\n",
              "      <td>1987.000000</td>\n",
              "      <td>43.000000</td>\n",
              "    </tr>\n",
              "    <tr>\n",
              "      <th>max</th>\n",
              "      <td>NaN</td>\n",
              "      <td>8801.000000</td>\n",
              "      <td>99.000000</td>\n",
              "    </tr>\n",
              "  </tbody>\n",
              "</table>\n",
              "</div>"
            ],
            "text/plain": [
              "       county_name  driver_age_raw    driver_age\n",
              "count          0.0    86414.000000  86120.000000\n",
              "mean           NaN     1970.491228     34.011333\n",
              "std            NaN      110.914909     12.738564\n",
              "min            NaN        0.000000     15.000000\n",
              "25%            NaN     1967.000000     23.000000\n",
              "50%            NaN     1980.000000     31.000000\n",
              "75%            NaN     1987.000000     43.000000\n",
              "max            NaN     8801.000000     99.000000"
            ]
          },
          "metadata": {
            "tags": []
          },
          "execution_count": 43
        }
      ]
    },
    {
      "cell_type": "markdown",
      "metadata": {
        "id": "NBEL-eibQBwC"
      },
      "source": [
        "# How to check the shape of dataset?"
      ]
    },
    {
      "cell_type": "code",
      "metadata": {
        "colab": {
          "base_uri": "https://localhost:8080/"
        },
        "id": "06BgITBgQBwC",
        "outputId": "c9a42da3-1fa5-4d59-800c-b9d0c2c7cc23"
      },
      "source": [
        "df.shape # 91741 records 15 features"
      ],
      "execution_count": 46,
      "outputs": [
        {
          "output_type": "execute_result",
          "data": {
            "text/plain": [
              "(91741, 15)"
            ]
          },
          "metadata": {
            "tags": []
          },
          "execution_count": 46
        }
      ]
    },
    {
      "cell_type": "markdown",
      "metadata": {
        "id": "dfs1Gk-hQBwC"
      },
      "source": [
        "# Check the type of columns?"
      ]
    },
    {
      "cell_type": "code",
      "metadata": {
        "colab": {
          "base_uri": "https://localhost:8080/"
        },
        "id": "DygFOn0hQBwC",
        "outputId": "56f0426a-a69d-49e5-8485-3340f86bb8bf"
      },
      "source": [
        "# df.info()         !!!!!!!!!!!!!!! WRONG !!!!!!!!!!!!!!!!!!\r\n",
        "\r\n",
        "\r\n",
        "# check type of columns\r\n",
        "df.dtypes"
      ],
      "execution_count": 50,
      "outputs": [
        {
          "output_type": "execute_result",
          "data": {
            "text/plain": [
              "stop_date              object\n",
              "stop_time              object\n",
              "county_name           float64\n",
              "driver_gender          object\n",
              "driver_age_raw        float64\n",
              "driver_age            float64\n",
              "driver_race            object\n",
              "violation_raw          object\n",
              "violation              object\n",
              "search_conducted         bool\n",
              "search_type            object\n",
              "stop_outcome           object\n",
              "is_arrested            object\n",
              "stop_duration          object\n",
              "drugs_related_stop       bool\n",
              "dtype: object"
            ]
          },
          "metadata": {
            "tags": []
          },
          "execution_count": 50
        }
      ]
    },
    {
      "cell_type": "markdown",
      "metadata": {
        "id": "P_1qgqLJQBwD"
      },
      "source": [
        "# Locating missing Values?\n",
        "#### detecting missing values\n",
        "#### calculates the sum of each column\n"
      ]
    },
    {
      "cell_type": "code",
      "metadata": {
        "colab": {
          "base_uri": "https://localhost:8080/"
        },
        "id": "hnCQt-8YQBwD",
        "outputId": "f3318119-9c72-4184-f9d9-0251f357ac26"
      },
      "source": [
        "df.isna().sum()"
      ],
      "execution_count": 52,
      "outputs": [
        {
          "output_type": "execute_result",
          "data": {
            "text/plain": [
              "stop_date                 0\n",
              "stop_time                 0\n",
              "county_name           91741\n",
              "driver_gender          5335\n",
              "driver_age_raw         5327\n",
              "driver_age             5621\n",
              "driver_race            5333\n",
              "violation_raw          5333\n",
              "violation              5333\n",
              "search_conducted          0\n",
              "search_type           88545\n",
              "stop_outcome           5333\n",
              "is_arrested            5333\n",
              "stop_duration          5333\n",
              "drugs_related_stop        0\n",
              "dtype: int64"
            ]
          },
          "metadata": {
            "tags": []
          },
          "execution_count": 52
        }
      ]
    },
    {
      "cell_type": "code",
      "metadata": {
        "id": "4-xxXy0lQBwD"
      },
      "source": [
        ""
      ],
      "execution_count": null,
      "outputs": []
    },
    {
      "cell_type": "markdown",
      "metadata": {
        "id": "A3WfPWauQBwD"
      },
      "source": [
        "# Dropping Column that only contains missing values."
      ]
    },
    {
      "cell_type": "code",
      "metadata": {
        "colab": {
          "base_uri": "https://localhost:8080/",
          "height": 35
        },
        "id": "kBBixTTJQBwD",
        "outputId": "179273a8-c73a-4e35-b388-4967844a87ad"
      },
      "source": [
        "# county is completely empty\r\n",
        "df.drop('county_name', axis=1, inplace=True) # axis 1 = columns\r\n",
        "\r\n",
        "\"\"\"  EXTRA  \"\"\"\r\n",
        "################################################################################\r\n",
        "# search_type has a large amount of missing values\r\n",
        "# calculating percentaage of missing values\r\n",
        "\r\n",
        "# df['search_type'].isna().sum()/(df['search_type'].isna().sum() + df['search_type'].value_counts().sum())\r\n",
        "\r\n",
        "# missing/ total => 96% values are missing\r\n",
        "################################################################################"
      ],
      "execution_count": 64,
      "outputs": [
        {
          "output_type": "execute_result",
          "data": {
            "application/vnd.google.colaboratory.intrinsic+json": {
              "type": "string"
            },
            "text/plain": [
              "'  EXTRA  '"
            ]
          },
          "metadata": {
            "tags": []
          },
          "execution_count": 64
        }
      ]
    },
    {
      "cell_type": "code",
      "metadata": {
        "id": "-gkP3y_tQBwE"
      },
      "source": [
        ""
      ],
      "execution_count": null,
      "outputs": []
    },
    {
      "cell_type": "markdown",
      "metadata": {
        "id": "ZPl9A3kaQBwE"
      },
      "source": [
        "# Do the men or women speed more often?"
      ]
    },
    {
      "cell_type": "code",
      "metadata": {
        "colab": {
          "base_uri": "https://localhost:8080/"
        },
        "id": "2fEkxWf1QBwE",
        "outputId": "34010398-5c70-4492-deb6-9e0a425db343"
      },
      "source": [
        "df['violation'].unique() # array(['Speeding', 'Other', 'Equipment', 'Moving violation', nan,\r\n",
        "                         # 'Registration/plates', 'Seat belt'], dtype=object)\r\n",
        "\r\n",
        "# which gender speeds more often\r\n",
        "# first create a filter then pass the filter to data frame as index\r\n",
        "\r\n",
        "filt = df['violation'] == 'Speeding'\r\n",
        "\r\n",
        "speeding_df = df[filt] # 48463 rows out of total 91741\r\n",
        "\r\n",
        "# speeding_df is a subset of original dataframe having only speeding violation data\r\n",
        "\r\n",
        "speeding_df['driver_gender'].value_counts()\r\n",
        "\r\n",
        "# ANSWER\r\n",
        "###############################################################################\r\n",
        "#\r\n",
        "# more males do speeding violation than females (32979 males - 15482 females)\r\n",
        "#\r\n",
        "###############################################################################"
      ],
      "execution_count": 67,
      "outputs": [
        {
          "output_type": "execute_result",
          "data": {
            "text/plain": [
              "M    32979\n",
              "F    15482\n",
              "Name: driver_gender, dtype: int64"
            ]
          },
          "metadata": {
            "tags": []
          },
          "execution_count": 67
        }
      ]
    },
    {
      "cell_type": "code",
      "metadata": {
        "id": "g_UrH3fPQBwE"
      },
      "source": [
        ""
      ],
      "execution_count": null,
      "outputs": []
    },
    {
      "cell_type": "markdown",
      "metadata": {
        "id": "ZHN7PBF9QBwE"
      },
      "source": [
        "# Which year had the least number of stops?"
      ]
    },
    {
      "cell_type": "code",
      "metadata": {
        "colab": {
          "base_uri": "https://localhost:8080/"
        },
        "id": "8Orwg7ndQBwF",
        "outputId": "c67a4a5f-ca5a-4292-906b-31ad59f50d69"
      },
      "source": [
        "# convert stop_date to date from object\r\n",
        "# PAGE 181 BOOK - CHAPTER 11 BOOK\r\n",
        "\r\n",
        "time = pd.to_datetime(df['stop_date'])\r\n",
        "\r\n",
        "time.dt.year.value_counts()\r\n",
        "\r\n",
        "# ANSWER\r\n",
        "###############################################################################\r\n",
        "#\r\n",
        "# 2005 had the least number of stops (2558)\r\n",
        "#\r\n",
        "###############################################################################"
      ],
      "execution_count": 82,
      "outputs": [
        {
          "output_type": "execute_result",
          "data": {
            "text/plain": [
              "2012    10970\n",
              "2006    10639\n",
              "2007     9476\n",
              "2014     9228\n",
              "2008     8752\n",
              "2015     8599\n",
              "2011     8126\n",
              "2013     7924\n",
              "2009     7908\n",
              "2010     7561\n",
              "2005     2558\n",
              "Name: stop_date, dtype: int64"
            ]
          },
          "metadata": {
            "tags": []
          },
          "execution_count": 82
        }
      ]
    },
    {
      "cell_type": "code",
      "metadata": {
        "id": "3MCEfEz6QBwF"
      },
      "source": [
        ""
      ],
      "execution_count": null,
      "outputs": []
    },
    {
      "cell_type": "markdown",
      "metadata": {
        "id": "jaw2DV6aQBwF"
      },
      "source": [
        "# Does gender affect who gets searched during a stop?"
      ]
    },
    {
      "cell_type": "code",
      "metadata": {
        "colab": {
          "base_uri": "https://localhost:8080/"
        },
        "id": "_LDWUVmjQBwF",
        "outputId": "2f72deef-734f-40ea-b2a2-2a5a2dfb73bd"
      },
      "source": [
        "# filter out records where searching is True\r\n",
        "filt = df['search_conducted']\r\n",
        "\r\n",
        "df[filt]['driver_gender'].value_counts()\r\n",
        "\r\n",
        "# ANSWER\r\n",
        "###############################################################################\r\n",
        "#\r\n",
        "# males get searched much more than females so gender does affect searching \r\n",
        "#\r\n",
        "###############################################################################"
      ],
      "execution_count": 109,
      "outputs": [
        {
          "output_type": "execute_result",
          "data": {
            "text/plain": [
              "M    2725\n",
              "F     471\n",
              "Name: driver_gender, dtype: int64"
            ]
          },
          "metadata": {
            "tags": []
          },
          "execution_count": 109
        }
      ]
    },
    {
      "cell_type": "code",
      "metadata": {
        "id": "7y44vBakQBwF"
      },
      "source": [
        ""
      ],
      "execution_count": null,
      "outputs": []
    },
    {
      "cell_type": "markdown",
      "metadata": {
        "id": "t7v6aPV6QBwG"
      },
      "source": [
        "\n",
        "# How does drug activity change by time of day?"
      ]
    },
    {
      "cell_type": "code",
      "metadata": {
        "colab": {
          "base_uri": "https://localhost:8080/"
        },
        "id": "g4_SqZIbQBwG",
        "outputId": "ed4fdb21-ec8d-4e79-b149-022361df62b9"
      },
      "source": [
        "filt = df['drugs_related_stop'] \r\n",
        "\r\n",
        "# first have to convert stop_time (object) into more suitable datatype for using value_counts() \r\n",
        "\r\n",
        "time_of_day = pd.to_datetime(df[filt]['stop_time'])\r\n",
        "time_of_day.dt.hour.value_counts() ## EXTRA ## time_of_day.dt.hour.value_counts().SORT_INDEX() to sort by index,,,\r\n",
        "\r\n",
        "# ANSWER\r\n",
        "###############################################################################\r\n",
        "#\r\n",
        "#  most drug activity takes place at hour 0 (103 stops) then hour 23 (92 stops)\r\n",
        "#  , 60 stops at hour 1, so most drug activites are taking place during night \r\n",
        "#  time\r\n",
        "#\r\n",
        "###############################################################################\r\n"
      ],
      "execution_count": 128,
      "outputs": [
        {
          "output_type": "execute_result",
          "data": {
            "text/plain": [
              "0     103\n",
              "23     92\n",
              "1      60\n",
              "13     50\n",
              "22     47\n",
              "2      46\n",
              "14     44\n",
              "9      43\n",
              "10     42\n",
              "11     41\n",
              "15     31\n",
              "19     30\n",
              "20     27\n",
              "16     22\n",
              "18     22\n",
              "3      20\n",
              "21     20\n",
              "12     16\n",
              "17     16\n",
              "7      15\n",
              "8      14\n",
              "6      10\n",
              "4       3\n",
              "5       1\n",
              "Name: stop_time, dtype: int64"
            ]
          },
          "metadata": {
            "tags": []
          },
          "execution_count": 128
        }
      ]
    },
    {
      "cell_type": "code",
      "metadata": {
        "id": "GLS9KnSSQBwG"
      },
      "source": [
        ""
      ],
      "execution_count": null,
      "outputs": []
    },
    {
      "cell_type": "markdown",
      "metadata": {
        "id": "8xRb8wLCQBwG"
      },
      "source": [
        "# Do most stops occur at night?"
      ]
    },
    {
      "cell_type": "code",
      "metadata": {
        "colab": {
          "base_uri": "https://localhost:8080/"
        },
        "id": "Xz2LK-s2QBwG",
        "outputId": "52f35caa-53a6-40aa-d7b8-e9b80347c8c2"
      },
      "source": [
        "# converting stop_time to datetime and then filtering out night time\r\n",
        "time_of_stops = pd.to_datetime(df['stop_time'])\r\n",
        "\r\n",
        "# considering 6 pm to 6 am as night\r\n",
        "\r\n",
        "# stop should be after 5 pm   OR   before 7 am\r\n",
        "\r\n",
        "filt = (time_of_stops.dt.hour > 17) | (time_of_stops.dt.hour < 7) # 8pm-6am\r\n",
        "\r\n",
        "df[filt].value_counts()\r\n",
        "\r\n",
        "df[filt].shape # 36260 rows\r\n",
        "\r\n",
        "# df[filt].shape[0] / df.shape[0] night stops / total stops      40 percent\r\n",
        "\r\n",
        "# ANSWER\r\n",
        "###############################################################################\r\n",
        "#\r\n",
        "#  40 percent stops are ocurring at night\r\n",
        "#\r\n",
        "###############################################################################"
      ],
      "execution_count": 151,
      "outputs": [
        {
          "output_type": "execute_result",
          "data": {
            "text/plain": [
              "0.3952431301163057"
            ]
          },
          "metadata": {
            "tags": []
          },
          "execution_count": 151
        }
      ]
    },
    {
      "cell_type": "code",
      "metadata": {
        "id": "8ufxje_UQBwG"
      },
      "source": [
        ""
      ],
      "execution_count": null,
      "outputs": []
    },
    {
      "cell_type": "markdown",
      "metadata": {
        "id": "riPpas3UQBwH"
      },
      "source": [
        ""
      ]
    },
    {
      "cell_type": "code",
      "metadata": {
        "id": "u4MJHX9zQBwH"
      },
      "source": [
        ""
      ],
      "execution_count": null,
      "outputs": []
    },
    {
      "cell_type": "code",
      "metadata": {
        "id": "aEAUr_wOQBwH"
      },
      "source": [
        ""
      ],
      "execution_count": null,
      "outputs": []
    },
    {
      "cell_type": "code",
      "metadata": {
        "id": "5dpxJekDQBwH"
      },
      "source": [
        ""
      ],
      "execution_count": null,
      "outputs": []
    },
    {
      "cell_type": "code",
      "metadata": {
        "id": "VWVTa3uAQBwH"
      },
      "source": [
        ""
      ],
      "execution_count": null,
      "outputs": []
    },
    {
      "cell_type": "code",
      "metadata": {
        "id": "frhg8dzSQBwI"
      },
      "source": [
        ""
      ],
      "execution_count": null,
      "outputs": []
    }
  ]
}